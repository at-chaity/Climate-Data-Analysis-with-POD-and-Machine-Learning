{
 "cells": [
  {
   "cell_type": "code",
   "id": "initial_id",
   "metadata": {
    "collapsed": true,
    "ExecuteTime": {
     "end_time": "2025-08-25T14:32:44.844299Z",
     "start_time": "2025-08-25T14:32:44.787633Z"
    }
   },
   "source": [
    "import numpy as np\n",
    "import pandas as pd\n",
    "data=pd.read_csv('spain_rainfall_clean.csv')\n",
    "print(data.head())"
   ],
   "outputs": [
    {
     "name": "stdout",
     "output_type": "stream",
     "text": [
      "         date       city  prectot    t2m   rh2m\n",
      "0  2008-01-01  barcelona     0.00   8.01  65.51\n",
      "1  2008-01-02  barcelona     2.10   8.65  70.18\n",
      "2  2008-01-03  barcelona    13.26   9.28  91.32\n",
      "3  2008-01-04  barcelona     1.24   8.97  85.60\n",
      "4  2008-01-05  barcelona     1.01  10.08  83.02\n"
     ]
    }
   ],
   "execution_count": 8
  },
  {
   "metadata": {
    "ExecuteTime": {
     "end_time": "2025-08-25T14:32:45.037443Z",
     "start_time": "2025-08-25T14:32:44.869247Z"
    }
   },
   "cell_type": "code",
   "source": [
    "#matrix for POD : dates in columns, city in rows\n",
    "city_=data['city'].unique()\n",
    "vars_=['prectot','t2m','rh2m']\n",
    "#make a list for each variable\n",
    "matlist=[]\n",
    "for var in vars_:\n",
    "    #make a block for each variable\n",
    "    df_var=data.pivot(index='date',columns='city',values=var)\n",
    "    df_var=df_var[city_]\n",
    "    matlist.append(df_var.T)\n",
    "#make the matrix\n",
    "X=pd.concat(matlist,axis=0).values\n",
    "print(X.shape)\n",
    "np.save('X.npy',X)"
   ],
   "id": "3ce35d5828bbd982",
   "outputs": [
    {
     "name": "stdout",
     "output_type": "stream",
     "text": [
      "(15, 5844)\n"
     ]
    }
   ],
   "execution_count": 9
  },
  {
   "metadata": {
    "ExecuteTime": {
     "end_time": "2025-08-25T14:32:45.117549Z",
     "start_time": "2025-08-25T14:32:45.084758Z"
    }
   },
   "cell_type": "code",
   "source": [
    "#remove mean from X\n",
    "X_mean=X.mean(axis=1,keepdims=True)\n",
    "X_cntr=X-X_mean\n",
    "#apply SVD\n",
    "U,S,VT=np.linalg.svd(X_cntr,full_matrices=False)\n",
    "print(U.shape)\n",
    "print(S.shape)\n",
    "print(VT.shape)"
   ],
   "id": "dde266975286171d",
   "outputs": [
    {
     "name": "stdout",
     "output_type": "stream",
     "text": [
      "(15, 15)\n",
      "(15,)\n",
      "(15, 5844)\n"
     ]
    }
   ],
   "execution_count": 10
  },
  {
   "metadata": {
    "ExecuteTime": {
     "end_time": "2025-08-25T14:32:45.235517Z",
     "start_time": "2025-08-25T14:32:45.133178Z"
    }
   },
   "cell_type": "code",
   "source": [
    "# Choose number of modes\n",
    "k = 10\n",
    "U_k = U[:, :k]\n",
    "S_k = S[:k]\n",
    "Vt_k = VT[:k, :]\n",
    "\n",
    "# Temporal coefficients (mode amplitudes)\n",
    "C = np.diag(S_k) @ Vt_k  # shape: k x num_days\n",
    "\n",
    "print(\"Shape of temporal coefficients:\", C.shape)"
   ],
   "id": "3655f354cae0937f",
   "outputs": [
    {
     "name": "stdout",
     "output_type": "stream",
     "text": [
      "Shape of temporal coefficients: (10, 5844)\n"
     ]
    }
   ],
   "execution_count": 11
  },
  {
   "metadata": {
    "ExecuteTime": {
     "end_time": "2025-08-25T14:32:45.359449Z",
     "start_time": "2025-08-25T14:32:45.251185Z"
    }
   },
   "cell_type": "code",
   "source": [
    "#save in a numpy file\n",
    "import numpy as np\n",
    "np.save('C.npy',C)"
   ],
   "id": "6b05d192c0608655",
   "outputs": [],
   "execution_count": 12
  },
  {
   "metadata": {
    "ExecuteTime": {
     "end_time": "2025-08-25T14:32:45.389363Z",
     "start_time": "2025-08-25T14:32:45.375082Z"
    }
   },
   "cell_type": "code",
   "source": "",
   "id": "e4df831cd338b7ae",
   "outputs": [],
   "execution_count": null
  }
 ],
 "metadata": {
  "kernelspec": {
   "display_name": "Python 3",
   "language": "python",
   "name": "python3"
  },
  "language_info": {
   "codemirror_mode": {
    "name": "ipython",
    "version": 2
   },
   "file_extension": ".py",
   "mimetype": "text/x-python",
   "name": "python",
   "nbconvert_exporter": "python",
   "pygments_lexer": "ipython2",
   "version": "2.7.6"
  }
 },
 "nbformat": 4,
 "nbformat_minor": 5
}
