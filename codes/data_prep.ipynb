{
 "cells": [
  {
   "cell_type": "code",
   "id": "initial_id",
   "metadata": {
    "collapsed": true,
    "ExecuteTime": {
     "end_time": "2025-08-24T14:51:58.542368Z",
     "start_time": "2025-08-24T14:51:58.534602Z"
    }
   },
   "source": [
    "#read csv files of five cities of spain and merge\n",
    "import pandas as pd\n",
    "import glob\n",
    "import numpy as np\n",
    "csv_files=glob.glob('*.csv')\n",
    "print(csv_files)"
   ],
   "outputs": [
    {
     "name": "stdout",
     "output_type": "stream",
     "text": [
      "['barcelona.csv', 'bilbao.csv', 'madrid.csv', 'seville.csv', 'valencia.csv']\n"
     ]
    }
   ],
   "execution_count": 31
  },
  {
   "metadata": {
    "ExecuteTime": {
     "end_time": "2025-08-24T14:52:00.331813Z",
     "start_time": "2025-08-24T14:51:58.573568Z"
    }
   },
   "cell_type": "code",
   "source": [
    "#add a city column in each csv file\n",
    "dfs = []\n",
    "\n",
    "for f in csv_files:\n",
    "    city_name = f.split('/')[-1].replace('.csv','')\n",
    "    # Skip rows until \"-END HEADER-\"\n",
    "    with open(f) as file:\n",
    "        for i, line in enumerate(file):\n",
    "            if '-END HEADER-' in line:\n",
    "                skip_rows = i + 1\n",
    "                break\n",
    "\n",
    "    df = pd.read_csv(f, skiprows=skip_rows)\n",
    "\n",
    "    # Clean column names\n",
    "    df.columns = df.columns.str.strip().str.lower()\n",
    "\n",
    "    # Rename precipitation if needed\n",
    "    if 'prectotcorr' in df.columns:\n",
    "        df.rename(columns={'prectotcorr':'prectot'}, inplace=True)\n",
    "\n",
    "    # Add city column\n",
    "    df['city'] = city_name\n",
    "    dfs.append(df)\n",
    "\n",
    "# Concatenate\n",
    "data = pd.concat(dfs, ignore_index=True)\n",
    "\n",
    "# Create datetime from YEAR + DOY\n",
    "data['date'] = pd.to_datetime(data['year'].astype(int).astype(str), format='%Y') + pd.to_timedelta(data['doy']-1, unit='d')\n",
    "\n",
    "# Optional: reorder columns\n",
    "data = data[['date','city','prectot','t2m','rh2m']]\n",
    "\n",
    "print(data.head())\n"
   ],
   "id": "2a603019c0f38de5",
   "outputs": [
    {
     "name": "stdout",
     "output_type": "stream",
     "text": [
      "        date       city  prectot    t2m   rh2m\n",
      "0 2008-01-01  barcelona     0.00   8.01  65.51\n",
      "1 2008-01-02  barcelona     2.10   8.65  70.18\n",
      "2 2008-01-03  barcelona    13.26   9.28  91.32\n",
      "3 2008-01-04  barcelona     1.24   8.97  85.60\n",
      "4 2008-01-05  barcelona     1.01  10.08  83.02\n"
     ]
    }
   ],
   "execution_count": 32
  },
  {
   "metadata": {
    "ExecuteTime": {
     "end_time": "2025-08-24T15:02:02.716216Z",
     "start_time": "2025-08-24T15:02:02.363891Z"
    }
   },
   "cell_type": "code",
   "source": [
    "data.to_csv('spain_rainfall_clean.csv', index=False)\n",
    "print(\"Data prep complete. Saved to spain_rainfall_2013_2023_clean.csv\")\n"
   ],
   "id": "1ce4e76e1af4a125",
   "outputs": [
    {
     "name": "stdout",
     "output_type": "stream",
     "text": [
      "Data prep complete. Saved to spain_rainfall_2013_2023_clean.csv\n"
     ]
    }
   ],
   "execution_count": 33
  },
  {
   "metadata": {
    "ExecuteTime": {
     "end_time": "2025-08-24T14:52:00.417521Z",
     "start_time": "2025-08-24T14:52:00.413468Z"
    }
   },
   "cell_type": "code",
   "source": "",
   "id": "e1ca82d05fe4d920",
   "outputs": [],
   "execution_count": null
  }
 ],
 "metadata": {
  "kernelspec": {
   "display_name": "Python 3",
   "language": "python",
   "name": "python3"
  },
  "language_info": {
   "codemirror_mode": {
    "name": "ipython",
    "version": 2
   },
   "file_extension": ".py",
   "mimetype": "text/x-python",
   "name": "python",
   "nbconvert_exporter": "python",
   "pygments_lexer": "ipython2",
   "version": "2.7.6"
  }
 },
 "nbformat": 4,
 "nbformat_minor": 5
}
